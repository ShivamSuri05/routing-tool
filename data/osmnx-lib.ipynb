{
 "cells": [
  {
   "cell_type": "code",
   "execution_count": null,
   "metadata": {},
   "outputs": [],
   "source": [
    "import networkx as nx\n",
    "import osmnx as ox"
   ]
  },
  {
   "cell_type": "code",
   "execution_count": null,
   "metadata": {},
   "outputs": [],
   "source": [
    "G = ox.graph_from_place(\"Hamburg, Germany\", network_type=\"drive\")\n",
    "fig, ax = ox.plot_graph(G)"
   ]
  },
  {
   "cell_type": "code",
   "execution_count": null,
   "metadata": {},
   "outputs": [],
   "source": [
    "'''north = 53.947882\n",
    "south = 53.419738\n",
    "east = 10.193788\n",
    "west = 9.407340\n",
    "graph_with_bbox = ox.graph_from_bbox(north, south, east, west, network_type=\"drive\")\n",
    "ox.plot_graph(graph_with_bbox)\n",
    "'''"
   ]
  },
  {
   "cell_type": "code",
   "execution_count": null,
   "metadata": {},
   "outputs": [],
   "source": [
    "# Node latitude and longitude\n",
    "latitude = 53.595438 # data from bund.de\n",
    "longitude = 9.924161\n",
    "\n",
    "# Get the map around the node\n",
    "location_point = (latitude, longitude)\n",
    "graph = ox.graph_from_point(location_point, dist=500, network_type='all')  # 500 meters around the point\n",
    "\n",
    "# Plot the map\n",
    "fig, ax = ox.plot_graph(graph, node_color=\"red\", bgcolor=\"white\", show=False)\n",
    "\n",
    "# Add the specific node as a scatter point\n",
    "ax.scatter(longitude, latitude, c=\"blue\", s=100, label=\"Specific Node\")\n",
    "ax.legend()\n"
   ]
  }
 ],
 "metadata": {
  "kernelspec": {
   "display_name": "base",
   "language": "python",
   "name": "python3"
  },
  "language_info": {
   "codemirror_mode": {
    "name": "ipython",
    "version": 3
   },
   "file_extension": ".py",
   "mimetype": "text/x-python",
   "name": "python",
   "nbconvert_exporter": "python",
   "pygments_lexer": "ipython3",
   "version": "3.9.12"
  }
 },
 "nbformat": 4,
 "nbformat_minor": 2
}
